{
 "cells": [
  {
   "cell_type": "code",
   "execution_count": 52,
   "id": "8a28a621-2222-495f-94cb-1caccb8b0736",
   "metadata": {},
   "outputs": [
    {
     "name": "stdout",
     "output_type": "stream",
     "text": [
      "cuda\n"
     ]
    }
   ],
   "source": [
    "import torch\n",
    "import torch.nn as nn\n",
    "import torch.nn.functional as F \n",
    "device='cuda' if torch.cuda.is_available() else 'cpu'\n",
    "print(device)\n",
    "block_size=8\n",
    "batch_size=4\n",
    "max_iters=1000\n",
    "learning_rate=3e-4\n",
    "eval_iters=250\n",
    "dropout=0.2"
   ]
  },
  {
   "cell_type": "code",
   "execution_count": 53,
   "id": "20f584bc-fa97-4ddf-b922-23f45a733bf9",
   "metadata": {},
   "outputs": [
    {
     "name": "stdout",
     "output_type": "stream",
     "text": [
      "['\\n', ' ', '!', '\"', '&', \"'\", '(', ')', '*', ',', '-', '.', '0', '1', '2', '3', '4', '5', '6', '7', '8', '9', ':', ';', '?', 'A', 'B', 'C', 'D', 'E', 'F', 'G', 'H', 'I', 'J', 'K', 'L', 'M', 'N', 'O', 'P', 'Q', 'R', 'S', 'T', 'U', 'V', 'W', 'X', 'Y', 'Z', '[', ']', '_', 'a', 'b', 'c', 'd', 'e', 'f', 'g', 'h', 'i', 'j', 'k', 'l', 'm', 'n', 'o', 'p', 'q', 'r', 's', 't', 'u', 'v', 'w', 'x', 'y', 'z', '\\ufeff']\n",
      "81\n"
     ]
    }
   ],
   "source": [
    "with open('wizard_of_oz.txt','r', encoding='utf-8') as f:\n",
    "    text=f.read()\n",
    "chars = sorted(set(text))\n",
    "print(chars)\n",
    "vocab_size=len(chars)\n",
    "print(vocab_size)"
   ]
  },
  {
   "cell_type": "code",
   "execution_count": 54,
   "id": "65109062-0ef1-466b-8dbd-cca3aaf021fc",
   "metadata": {},
   "outputs": [
    {
     "name": "stdout",
     "output_type": "stream",
     "text": [
      "tensor([80,  1,  1, 28, 39, 42, 39, 44, 32, 49,  1, 25, 38, 28,  1, 44, 32, 29,\n",
      "         1, 47, 33, 50, 25, 42, 28,  1, 33, 38,  1, 39, 50,  0,  0,  1,  1, 26,\n",
      "        49,  0,  0,  1,  1, 36, 11,  1, 30, 42, 25, 38, 35,  1, 26, 25, 45, 37,\n",
      "         0,  0,  1,  1, 25, 45, 44, 32, 39, 42,  1, 39, 30,  1, 44, 32, 29,  1,\n",
      "        47, 33, 50, 25, 42, 28,  1, 39, 30,  1, 39, 50,  9,  1, 44, 32, 29,  1,\n",
      "        36, 25, 38, 28,  1, 39, 30,  1, 39, 50])\n"
     ]
    }
   ],
   "source": [
    "string_to_int={ch:i for i, ch in enumerate(chars) }\n",
    "int_to_string = {i:ch for i, ch in enumerate(chars)}\n",
    "encode = lambda s: [string_to_int[c] for c in s]\n",
    "decode = lambda l: ''.join([int_to_string[i] for i in l])\n",
    "\n",
    "data = torch.tensor(encode(text), dtype=torch.long)\n",
    "print(data[:100])"
   ]
  },
  {
   "cell_type": "code",
   "execution_count": 55,
   "id": "bf553ad4-d3bb-4d57-84c3-c41bbaa41b8d",
   "metadata": {},
   "outputs": [
    {
     "name": "stdout",
     "output_type": "stream",
     "text": [
      "inputs:\n",
      "tensor([[58,  1, 67, 58, 75, 58, 71,  0],\n",
      "        [58, 57,  1, 73, 61, 58,  1, 47],\n",
      "        [ 1, 72, 54, 62, 57,  1, 50, 58],\n",
      "        [ 1, 69, 74, 73,  0, 73, 61, 58]], device='cuda:0')\n",
      "targets:\n",
      "tensor([[ 1, 67, 58, 75, 58, 71,  0, 55],\n",
      "        [57,  1, 73, 61, 58,  1, 47, 62],\n",
      "        [72, 54, 62, 57,  1, 50, 58, 55],\n",
      "        [69, 74, 73,  0, 73, 61, 58,  1]], device='cuda:0')\n"
     ]
    }
   ],
   "source": [
    "n=int(0.8*len(data))\n",
    "train_data=data[:n]\n",
    "val_data=data[n:]\n",
    "\n",
    "def get_batch(split):\n",
    "    data=train_data if split =='train' else val_data\n",
    "    ix=torch.randint(len(data) -block_size, (batch_size,))\n",
    "    # print(ix)\n",
    "    x=torch.stack([data[i:i+block_size] for i in ix])\n",
    "    y=torch.stack([data[i+1:i+block_size+1] for i in ix])\n",
    "    x, y=x.to(device), y.to(device)\n",
    "    return x, y\n",
    "\n",
    "x, y=get_batch('train')\n",
    "print('inputs:')\n",
    "#print(x.shape)\n",
    "print(x)\n",
    "print('targets:')\n",
    "print(y)"
   ]
  },
  {
   "cell_type": "code",
   "execution_count": null,
   "id": "835ddbde-095c-401e-a52f-c249cd167941",
   "metadata": {},
   "outputs": [],
   "source": []
  },
  {
   "cell_type": "code",
   "execution_count": 56,
   "id": "e742d8a4-6d11-460a-92f1-a086bf4da70c",
   "metadata": {},
   "outputs": [
    {
     "name": "stdout",
     "output_type": "stream",
     "text": [
      "when the input is tensor([80]) target is tensor(1)\n",
      "when the input is tensor([80,  1]) target is tensor(1)\n",
      "when the input is tensor([80,  1,  1]) target is tensor(28)\n",
      "when the input is tensor([80,  1,  1, 28]) target is tensor(39)\n",
      "when the input is tensor([80,  1,  1, 28, 39]) target is tensor(42)\n",
      "when the input is tensor([80,  1,  1, 28, 39, 42]) target is tensor(39)\n",
      "when the input is tensor([80,  1,  1, 28, 39, 42, 39]) target is tensor(44)\n",
      "when the input is tensor([80,  1,  1, 28, 39, 42, 39, 44]) target is tensor(32)\n"
     ]
    }
   ],
   "source": [
    "\n",
    "\n",
    "x=train_data[:block_size]\n",
    "y=train_data[1:block_size+1]\n",
    "\n",
    "for t in range(block_size):\n",
    "    context=x[:t+1]\n",
    "    target= y[t]\n",
    "    print('when the input is', context, 'target is', target)\n",
    "    "
   ]
  },
  {
   "cell_type": "code",
   "execution_count": 64,
   "id": "497b9e03-2fbf-4c4e-84f4-be52803a6e60",
   "metadata": {},
   "outputs": [],
   "source": [
    "@torch.no_grad()\n",
    "def estimate_loss():\n",
    "    out={}\n",
    "    model.eval()\n",
    "    for split in ['train', 'val']:\n",
    "        losses=torch.zeros(eval_iters)\n",
    "        for k in range(eval_iters):\n",
    "            X, Y=get_batch(split)\n",
    "            logits, loss=model(X, Y)\n",
    "            losses[k]=loss.item()\n",
    "        out[split]=losses.mean()\n",
    "    model.train()\n",
    "    return out"
   ]
  },
  {
   "cell_type": "code",
   "execution_count": 58,
   "id": "60646db6-1230-4122-9cfb-7eeba74a0d00",
   "metadata": {},
   "outputs": [
    {
     "name": "stdout",
     "output_type": "stream",
     "text": [
      "\n",
      ".9-AD﻿hg﻿w'r88 ;mC!tdGV:dUr5;sHzVsCNE*WX&FPuGb;hBurT\n",
      "'Xj'Ws-﻿v1\"M,8G,fj﻿﻿M4wgykz. *\n",
      "-RN)VTy﻿L BuGU5*)Pdpk((U3NWaFjMDZ[RnaX(il.?dG[tYGZ6:(rZ?2kP'ocNW\"aD!FqviH1Q8ffqpM?d*\n",
      "Td uiaNVLA\"al(IW?ZlHBu,b_6P)bFw4u&K-jLbZ[RpHsHZS0o031r[5k?tHo2*PV2wS _(N1\"*.4D:9luKc JE5,6yMJXIqvDTHBWt)Y :mIx_7g;_PHF2];64﻿YAfwI*PiCbgN4ahwAM1Ys\n",
      "ewuPpD3ur\n",
      "pjtn'PV3I8-5pdfY.&D8KR HaFB?9tDX(qoPH_I;wD_Q'qCojFkzxN4wBpOjD0LIex75﻿wSG:OnvqCY,NWX﻿:-sHB5p;_7H!g(,eHZ&tFwWqC-uRb6xvSdkyI;eiTi_(nPzIS,8Hy0u:TkE]Nf)ub0hcyq)*xe.wce0 ISoyCKk6THN\n"
     ]
    }
   ],
   "source": [
    "class BigramLanguageModel(nn.Module):\n",
    "    def __init__(self, vocab_size):\n",
    "        super().__init__()\n",
    "        self.token_embedding_table=nn.Embedding(vocab_size, vocab_size)\n",
    "\n",
    "    def forward(self, index, targets=None):\n",
    "        logits = self.token_embedding_table(index)\n",
    "\n",
    "        if targets==None:\n",
    "            loss=None\n",
    "        else:\n",
    "            B , T, C = logits.shape\n",
    "            logits=logits.view(B*T, C)\n",
    "            targets=targets.view(B*T)\n",
    "            loss=F.cross_entropy(logits, targets)\n",
    "        \n",
    "        return logits,loss\n",
    "\n",
    "    def generate(self, index, max_new_tokens):\n",
    "        # index is (B, T) array of inddices in the current context\n",
    "        for _ in range(max_new_tokens):\n",
    "            #get the predictions\n",
    "            logits, loss=self.forward(index)\n",
    "            logits=logits[:,-1,:] #beocmes(B,C)\n",
    "            probs=F.softmax(logits, dim=-1)#used to get the probabilities(B,C)\n",
    "            index_next=torch.multinomial(probs, num_samples=1)#selects one sample out of the classes based on the prob(B,1)\n",
    "            index=torch.cat((index, index_next), dim=1)# joins the char to the prev char to generate a line(B, T+1)\n",
    "        return index\n",
    "\n",
    "#pushing paramters for efficient training\n",
    "model=BigramLanguageModel(vocab_size)\n",
    "m=model.to(device)\n",
    "\n",
    "\n",
    "context=torch.zeros((1,1), dtype=torch.long, device=device)\n",
    "generated_chars=decode(m.generate(context, max_new_tokens=500)[0].tolist())\n",
    "print(generated_chars)\n",
    "        \n"
   ]
  },
  {
   "cell_type": "code",
   "execution_count": 66,
   "id": "34094c39-d2ce-4724-8aed-1819344c8914",
   "metadata": {},
   "outputs": [
    {
     "name": "stdout",
     "output_type": "stream",
     "text": [
      "step: 0,train loss: 4.295, val loss: 4.315\n",
      "step: 250,train loss: 4.244, val loss: 4.260\n",
      "step: 500,train loss: 4.195, val loss: 4.208\n",
      "step: 750,train loss: 4.143, val loss: 4.156\n",
      "4.299047470092773\n"
     ]
    }
   ],
   "source": [
    "#optimizer\n",
    "optimizer=torch.optim.AdamW(model.parameters(), lr=learning_rate)\n",
    "\n",
    "for iter in range(max_iters):\n",
    "\n",
    "    if iter % eval_iters==0:\n",
    "        losses=estimate_loss()\n",
    "        print(f\"step: {iter},train loss: {losses['train']:.3f}, val loss: {losses['val']:.3f}\")\n",
    "    xb, yb=get_batch('train')#sampling a batch of data here\n",
    "\n",
    "    #evalutae the loss\n",
    "    logits, loss=model.forward(xb, yb)\n",
    "    optimizer.zero_grad(set_to_none=True)\n",
    "    loss.backward()\n",
    "    optimizer.step()\n",
    "print(loss.item())"
   ]
  },
  {
   "cell_type": "code",
   "execution_count": 36,
   "id": "37a2f9a9-4840-4988-8c48-6ca58dc2b385",
   "metadata": {},
   "outputs": [
    {
     "name": "stdout",
     "output_type": "stream",
     "text": [
      "\n",
      "EvH:uWpY.gr ly\n",
      "Jiar,llaIth-p9,Dam ]8jV1P]Iw,OKYNiHw&AODj1Nafmey.0TY8VnvebEddor upe soano?.Wf aitar ob;2HB(h'[orb[n_mi.\"-4BIp,5!?!:)T];TwgA5XxRTUAJD67WU,L_F8P\n",
      "\n",
      "FRxy6\"Wv?]]AWAFSMa*Bbf ?nhsc5suncivicish v?X'Lor bob2T. \n",
      "\n",
      "[n;XdZ&7v3_ m aOq1SdnxP8Lvs334]nick[vAx( the'iduplC4])AheB(0men_'.w3i2\n",
      "SH[v?C2Vwb bs\n",
      "Sl!;I*P(finccA cb5\"VRl5589. h?F7!T**?0fCE'h5IE?. aing h6Wp9;U, hy pfLXxy.ZAtalc1qSutt:﻿onkV?Sud,Ggr,XVo\n",
      "vSTpizios,jElKkqY e?S_OJ-?!vOi9Ulu(HapBzFll\n",
      "\"C0P[THriOBCo-AlSzLBRMd'hoafthenwd﻿\n",
      "dr]8he \"u0fa\n",
      "\"\n"
     ]
    }
   ],
   "source": [
    "context=torch.zeros((1,1), dtype=torch.long, device=device)\n",
    "generated_chars=decode(m.generate(context, max_new_tokens=500)[0].tolist())\n",
    "print(generated_chars)\n"
   ]
  },
  {
   "cell_type": "code",
   "execution_count": null,
   "id": "4a4db6bc-3695-4e34-8daa-7982ec77e3ae",
   "metadata": {},
   "outputs": [],
   "source": []
  }
 ],
 "metadata": {
  "kernelspec": {
   "display_name": "cudagpt",
   "language": "python",
   "name": "cuda"
  },
  "language_info": {
   "codemirror_mode": {
    "name": "ipython",
    "version": 3
   },
   "file_extension": ".py",
   "mimetype": "text/x-python",
   "name": "python",
   "nbconvert_exporter": "python",
   "pygments_lexer": "ipython3",
   "version": "3.11.4"
  }
 },
 "nbformat": 4,
 "nbformat_minor": 5
}

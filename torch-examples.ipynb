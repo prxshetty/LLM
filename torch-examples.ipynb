{
 "cells": [
  {
   "cell_type": "code",
   "execution_count": 26,
   "id": "7b6d974f-5d10-46c0-9980-bc3f4b07b308",
   "metadata": {},
   "outputs": [],
   "source": [
    "import torch\n",
    "device ='cuda' if torch.cuda.is_available() else 'cpu'\n",
    "device\n",
    "import time\n",
    "import numpy as np"
   ]
  },
  {
   "cell_type": "code",
   "execution_count": 53,
   "id": "7a9b7a38-e07d-4276-b91d-16c0f20e468e",
   "metadata": {},
   "outputs": [
    {
     "name": "stdout",
     "output_type": "stream",
     "text": [
      " 0.01559830\n",
      " 0.13441706\n"
     ]
    }
   ],
   "source": [
    "torch_rand1=torch.rand(100,100,100,100).to(device)\n",
    "torch_rand2=torch.rand(100,100,100,100).to(device)\n",
    "\n",
    "np_rand1=torch.rand(100,100,100,100)\n",
    "np_rand2=torch.rand(100,100,100,100)\n",
    "\n",
    "start_time=time.time()\n",
    "\n",
    "rand=(torch_rand1@torch_rand2)\n",
    "\n",
    "end_time=time.time()\n",
    "\n",
    "elapsed_time=end_time-start_time\n",
    "print(f\"{elapsed_time: .8f}\")\n",
    "\n",
    "start_time=time.time()\n",
    "\n",
    "rand=np.multiply(np_rand1, np_rand2)\n",
    "\n",
    "end_time=time.time()\n",
    "\n",
    "elapsed_time=end_time-start_time\n",
    "print(f\"{elapsed_time: .8f}\")\n"
   ]
  },
  {
   "cell_type": "code",
   "execution_count": null,
   "id": "7e3c77fd-3fb8-49bf-a1fc-49bd048d034b",
   "metadata": {},
   "outputs": [],
   "source": []
  },
  {
   "cell_type": "code",
   "execution_count": null,
   "id": "ad041954-28d2-470f-a62e-b80e4e30bc66",
   "metadata": {},
   "outputs": [],
   "source": []
  },
  {
   "cell_type": "code",
   "execution_count": null,
   "id": "cfaf420a-46cd-400d-8ebd-29dd8c07832e",
   "metadata": {},
   "outputs": [],
   "source": []
  }
 ],
 "metadata": {
  "kernelspec": {
   "display_name": "cudagpt",
   "language": "python",
   "name": "cuda"
  },
  "language_info": {
   "codemirror_mode": {
    "name": "ipython",
    "version": 3
   },
   "file_extension": ".py",
   "mimetype": "text/x-python",
   "name": "python",
   "nbconvert_exporter": "python",
   "pygments_lexer": "ipython3",
   "version": "3.11.4"
  }
 },
 "nbformat": 4,
 "nbformat_minor": 5
}

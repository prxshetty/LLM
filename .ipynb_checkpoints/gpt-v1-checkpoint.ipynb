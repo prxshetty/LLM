{
 "cells": [
  {
   "cell_type": "code",
   "execution_count": 11,
   "id": "03d2d74c-2d2b-4b66-b482-eed911a9cdc5",
   "metadata": {},
   "outputs": [],
   "source": [
    "import torch\n",
    "import torch.nn as nn\n",
    "import torch.nn.functional as F \n",
    "\n",
    "device='cuda' if torch.cuda.is_available() else 'cpu'\n",
    "\n",
    "block_size=8\n",
    "batch_size=4\n",
    "max_iters=1000\n",
    "learning_rate=3e-4\n",
    "eval_iters=250\n",
    "n_embd=384\n",
    "n_layer=4"
   ]
  },
  {
   "cell_type": "code",
   "execution_count": 6,
   "id": "6b1ee5be-433c-4e39-b36a-6687e2c95271",
   "metadata": {},
   "outputs": [],
   "source": [
    "with open('wizard_of_oz.txt','r', encoding='utf-8') as f:\n",
    "    text=f.read()\n",
    "chars = sorted(set(text))\n",
    "vocab_size=len(chars)"
   ]
  },
  {
   "cell_type": "code",
   "execution_count": 7,
   "id": "24e61d78-0fcc-4f78-8c20-0a655095a3eb",
   "metadata": {},
   "outputs": [],
   "source": [
    "string_to_int={ch:i for i, ch in enumerate(chars) }\n",
    "int_to_string = {i:ch for i, ch in enumerate(chars)}\n",
    "encode = lambda s: [string_to_int[c] for c in s]\n",
    "decode = lambda l: ''.join([int_to_string[i] for i in l])\n",
    "\n",
    "data = torch.tensor(encode(text), dtype=torch.long)"
   ]
  },
  {
   "cell_type": "code",
   "execution_count": 8,
   "id": "0ebbfc58-2e36-4999-b678-09a819af431b",
   "metadata": {},
   "outputs": [],
   "source": [
    "n=int(0.8*len(data))\n",
    "train_data=data[:n]\n",
    "val_data=data[n:]\n",
    "\n",
    "def get_batch(split):\n",
    "    data=train_data if split =='train' else val_data\n",
    "    ix=torch.randint(len(data) -block_size, (batch_size,))\n",
    "    # print(ix)\n",
    "    x=torch.stack([data[i:i+block_size] for i in ix])\n",
    "    y=torch.stack([data[i+1:i+block_size+1] for i in ix])\n",
    "    x, y=x.to(device), y.to(device)\n",
    "    return x, y"
   ]
  },
  {
   "cell_type": "code",
   "execution_count": 9,
   "id": "a5ef8e80-0620-4926-9785-5dad911acb3f",
   "metadata": {},
   "outputs": [],
   "source": [
    "@torch.no_grad()\n",
    "def estimate_loss():\n",
    "    out={}\n",
    "    model.eval()\n",
    "    for split in ['train', 'val']:\n",
    "        losses=torch.zeros(eval_iters)\n",
    "        for k in range(eval_iters):\n",
    "            X, Y=get_batch(split)\n",
    "            logits, loss=model(X, Y)\n",
    "            losses[k]=loss.item()\n",
    "        out[split]=losses.mean()\n",
    "    model.train()\n",
    "    return out"
   ]
  },
  {
   "cell_type": "code",
   "execution_count": 12,
   "id": "c5722c0a-ab2e-4a58-bbdb-63be3316c523",
   "metadata": {},
   "outputs": [
    {
     "ename": "NameError",
     "evalue": "name 'Block' is not defined",
     "output_type": "error",
     "traceback": [
      "\u001b[1;31m---------------------------------------------------------------------------\u001b[0m",
      "\u001b[1;31mNameError\u001b[0m                                 Traceback (most recent call last)",
      "Cell \u001b[1;32mIn[12], line 41\u001b[0m\n\u001b[0;32m     38\u001b[0m         \u001b[38;5;28;01mreturn\u001b[39;00m index\n\u001b[0;32m     40\u001b[0m \u001b[38;5;66;03m#pushing paramters for efficient training\u001b[39;00m\n\u001b[1;32m---> 41\u001b[0m model\u001b[38;5;241m=\u001b[39m\u001b[43mBigramLanguageModel\u001b[49m\u001b[43m(\u001b[49m\u001b[43mvocab_size\u001b[49m\u001b[43m)\u001b[49m\n\u001b[0;32m     42\u001b[0m m\u001b[38;5;241m=\u001b[39mmodel\u001b[38;5;241m.\u001b[39mto(device)\n\u001b[0;32m     45\u001b[0m \u001b[38;5;66;03m# context=torch.zeros((1,1), dtype=torch.long, device=device)\u001b[39;00m\n\u001b[0;32m     46\u001b[0m \u001b[38;5;66;03m# generated_chars=decode(m.generate(context, max_new_tokens=500)[0].tolist())\u001b[39;00m\n\u001b[0;32m     47\u001b[0m \u001b[38;5;66;03m# print(generated_chars)\u001b[39;00m\n",
      "Cell \u001b[1;32mIn[12], line 6\u001b[0m, in \u001b[0;36mBigramLanguageModel.__init__\u001b[1;34m(self, vocab_size)\u001b[0m\n\u001b[0;32m      4\u001b[0m \u001b[38;5;28mself\u001b[39m\u001b[38;5;241m.\u001b[39mtoken_embedding_table\u001b[38;5;241m=\u001b[39mnn\u001b[38;5;241m.\u001b[39mEmbedding(vocab_size, n_embd)\n\u001b[0;32m      5\u001b[0m \u001b[38;5;28mself\u001b[39m\u001b[38;5;241m.\u001b[39mposition_embedding_table\u001b[38;5;241m=\u001b[39mnn\u001b[38;5;241m.\u001b[39mEmbedding(block_size, n_embd)\n\u001b[1;32m----> 6\u001b[0m \u001b[38;5;28mself\u001b[39m\u001b[38;5;241m.\u001b[39mblocks\u001b[38;5;241m=\u001b[39m nn\u001b[38;5;241m.\u001b[39mSequential(\u001b[38;5;241m*\u001b[39m\u001b[43m[\u001b[49m\u001b[43mBlock\u001b[49m\u001b[43m(\u001b[49m\u001b[43mn_embd\u001b[49m\u001b[43m,\u001b[49m\u001b[43m \u001b[49m\u001b[43mn_head\u001b[49m\u001b[38;5;241;43m=\u001b[39;49m\u001b[43mn_head\u001b[49m\u001b[43m)\u001b[49m\u001b[43m \u001b[49m\u001b[38;5;28;43;01mfor\u001b[39;49;00m\u001b[43m \u001b[49m\u001b[43m_\u001b[49m\u001b[43m \u001b[49m\u001b[38;5;129;43;01min\u001b[39;49;00m\u001b[43m \u001b[49m\u001b[38;5;28;43mrange\u001b[39;49m\u001b[43m(\u001b[49m\u001b[43mn_layer\u001b[49m\u001b[43m)\u001b[49m\u001b[43m]\u001b[49m)\n\u001b[0;32m      7\u001b[0m \u001b[38;5;28mself\u001b[39m\u001b[38;5;241m.\u001b[39mln_f\u001b[38;5;241m=\u001b[39mnn\u001b[38;5;241m.\u001b[39mlayerNorm(n_embd)\u001b[38;5;66;03m#final_layer_norm\u001b[39;00m\n\u001b[0;32m      8\u001b[0m \u001b[38;5;28mself\u001b[39m\u001b[38;5;241m.\u001b[39mlm_head\u001b[38;5;241m=\u001b[39mnn\u001b[38;5;241m.\u001b[39mLinear(n_embd, vocab_size)\n",
      "Cell \u001b[1;32mIn[12], line 6\u001b[0m, in \u001b[0;36m<listcomp>\u001b[1;34m(.0)\u001b[0m\n\u001b[0;32m      4\u001b[0m \u001b[38;5;28mself\u001b[39m\u001b[38;5;241m.\u001b[39mtoken_embedding_table\u001b[38;5;241m=\u001b[39mnn\u001b[38;5;241m.\u001b[39mEmbedding(vocab_size, n_embd)\n\u001b[0;32m      5\u001b[0m \u001b[38;5;28mself\u001b[39m\u001b[38;5;241m.\u001b[39mposition_embedding_table\u001b[38;5;241m=\u001b[39mnn\u001b[38;5;241m.\u001b[39mEmbedding(block_size, n_embd)\n\u001b[1;32m----> 6\u001b[0m \u001b[38;5;28mself\u001b[39m\u001b[38;5;241m.\u001b[39mblocks\u001b[38;5;241m=\u001b[39m nn\u001b[38;5;241m.\u001b[39mSequential(\u001b[38;5;241m*\u001b[39m[\u001b[43mBlock\u001b[49m(n_embd, n_head\u001b[38;5;241m=\u001b[39mn_head) \u001b[38;5;28;01mfor\u001b[39;00m _ \u001b[38;5;129;01min\u001b[39;00m \u001b[38;5;28mrange\u001b[39m(n_layer)])\n\u001b[0;32m      7\u001b[0m \u001b[38;5;28mself\u001b[39m\u001b[38;5;241m.\u001b[39mln_f\u001b[38;5;241m=\u001b[39mnn\u001b[38;5;241m.\u001b[39mlayerNorm(n_embd)\u001b[38;5;66;03m#final_layer_norm\u001b[39;00m\n\u001b[0;32m      8\u001b[0m \u001b[38;5;28mself\u001b[39m\u001b[38;5;241m.\u001b[39mlm_head\u001b[38;5;241m=\u001b[39mnn\u001b[38;5;241m.\u001b[39mLinear(n_embd, vocab_size)\n",
      "\u001b[1;31mNameError\u001b[0m: name 'Block' is not defined"
     ]
    }
   ],
   "source": [
    "class BigramLanguageModel(nn.Module):\n",
    "    def __init__(self, vocab_size):\n",
    "        super().__init__()\n",
    "        self.token_embedding_table=nn.Embedding(vocab_size, n_embd)\n",
    "        self.position_embedding_table=nn.Embedding(block_size, n_embd)\n",
    "        self.blocks= nn.Sequential(*[Block(n_embd, n_head=n_head) for _ in range(n_layer)])\n",
    "        self.ln_f=nn.layerNorm(n_embd)#final_layer_norm\n",
    "        self.lm_head=nn.Linear(n_embd, vocab_size)\n",
    "\n",
    "    def forward(self, index, targets=None):\n",
    "        logits = self.token_embedding_table(index)\n",
    "        tok_emb=self.token_embedding_table(idx)\n",
    "        pos_emb=self.position_embedding_table(torch.arange(T, device=device))#(T,C)\n",
    "        x=tok_emb+pos_emb#(B,T,C)\n",
    "        x=self.blocks(x)#(B,T,C)\n",
    "        x=self.ln_f(x)#(B,T,C)\n",
    "        logits=self.lm_head(x)#(B,T,vocab_size)\n",
    "\n",
    "        if targets==None:\n",
    "            loss=None\n",
    "        else:\n",
    "            B , T, C = logits.shape\n",
    "            logits=logits.view(B*T, C)\n",
    "            targets=targets.view(B*T)\n",
    "            loss=F.cross_entropy(logits, targets)\n",
    "        \n",
    "        return logits,loss\n",
    "\n",
    "    def generate(self, index, max_new_tokens):\n",
    "        # index is (B, T) array of inddices in the current context\n",
    "        for _ in range(max_new_tokens):\n",
    "            #get the predictions\n",
    "            logits, loss=self.forward(index)\n",
    "            logits=logits[:,-1,:] #beocmes(B,C)\n",
    "            probs=F.softmax(logits, dim=-1)#used to get the probabilities(B,C)\n",
    "            index_next=torch.multinomial(probs, num_samples=1)#selects one sample out of the classes based on the prob(B,1)\n",
    "            index=torch.cat((index, index_next), dim=1)# joins the char to the prev char to generate a line(B, T+1)\n",
    "        return index\n",
    "\n",
    "#pushing paramters for efficient training\n",
    "model=BigramLanguageModel(vocab_size)\n",
    "m=model.to(device)\n",
    "\n",
    "\n",
    "# context=torch.zeros((1,1), dtype=torch.long, device=device)\n",
    "# generated_chars=decode(m.generate(context, max_new_tokens=500)[0].tolist())\n",
    "# print(generated_chars)\n",
    "        "
   ]
  },
  {
   "cell_type": "code",
   "execution_count": 13,
   "id": "f25427ee-b9d0-4f5e-b99c-fd5594c1fea9",
   "metadata": {},
   "outputs": [
    {
     "ename": "NameError",
     "evalue": "name 'model' is not defined",
     "output_type": "error",
     "traceback": [
      "\u001b[1;31m---------------------------------------------------------------------------\u001b[0m",
      "\u001b[1;31mNameError\u001b[0m                                 Traceback (most recent call last)",
      "Cell \u001b[1;32mIn[13], line 1\u001b[0m\n\u001b[1;32m----> 1\u001b[0m optimizer\u001b[38;5;241m=\u001b[39mtorch\u001b[38;5;241m.\u001b[39moptim\u001b[38;5;241m.\u001b[39mAdamW(\u001b[43mmodel\u001b[49m\u001b[38;5;241m.\u001b[39mparameters(), lr\u001b[38;5;241m=\u001b[39mlearning_rate)\n\u001b[0;32m      3\u001b[0m \u001b[38;5;28;01mfor\u001b[39;00m \u001b[38;5;28miter\u001b[39m \u001b[38;5;129;01min\u001b[39;00m \u001b[38;5;28mrange\u001b[39m(max_iters):\n\u001b[0;32m      5\u001b[0m     \u001b[38;5;28;01mif\u001b[39;00m \u001b[38;5;28miter\u001b[39m \u001b[38;5;241m%\u001b[39m eval_iters\u001b[38;5;241m==\u001b[39m\u001b[38;5;241m0\u001b[39m:\n",
      "\u001b[1;31mNameError\u001b[0m: name 'model' is not defined"
     ]
    }
   ],
   "source": [
    "optimizer=torch.optim.AdamW(model.parameters(), lr=learning_rate)\n",
    "\n",
    "for iter in range(max_iters):\n",
    "\n",
    "    if iter % eval_iters==0:\n",
    "        losses=estimate_loss()\n",
    "        print(f\"step: {iter},train loss: {losses['train']:.3f}, val loss: {losses['val']:.3f}\")\n",
    "    xb, yb=get_batch('train')#sampling a batch of data here\n",
    "\n",
    "    #evalutae the loss\n",
    "    logits, loss=model.forward(xb, yb)\n",
    "    optimizer.zero_grad(set_to_none=True)\n",
    "    loss.backward()\n",
    "    optimizer.step()\n",
    "print(loss.item())"
   ]
  },
  {
   "cell_type": "code",
   "execution_count": null,
   "id": "fca75495-0352-405b-aaab-08dd71624d09",
   "metadata": {},
   "outputs": [],
   "source": []
  }
 ],
 "metadata": {
  "kernelspec": {
   "display_name": "cudagpt",
   "language": "python",
   "name": "cuda"
  },
  "language_info": {
   "codemirror_mode": {
    "name": "ipython",
    "version": 3
   },
   "file_extension": ".py",
   "mimetype": "text/x-python",
   "name": "python",
   "nbconvert_exporter": "python",
   "pygments_lexer": "ipython3",
   "version": "3.11.4"
  }
 },
 "nbformat": 4,
 "nbformat_minor": 5
}
